{
 "cells": [
  {
   "cell_type": "markdown",
   "metadata": {},
   "source": [
    "# Insertion Sort\n",
    "\n",
    "Algotihm works next way. We walk throught array and picks elements one-by-one from second to last. Then find place to insert picked element in the prev part of array.\n"
   ]
  },
  {
   "cell_type": "code",
   "execution_count": 25,
   "metadata": {
    "collapsed": false
   },
   "outputs": [],
   "source": [
    "def ins_sort(xs):\n",
    "    xs = xs[:]\n",
    "    for j in range(1, len(xs)):\n",
    "        i = j - 1\n",
    "        k = xs[j]\n",
    "        while i >= 0 and xs[i] > k:\n",
    "            xs[i+1] = xs[i]\n",
    "            i -= 1\n",
    "        xs[i+1] = k\n",
    "    return xs"
   ]
  },
  {
   "cell_type": "markdown",
   "metadata": {},
   "source": [
    "### Insertion sort testing\n",
    "\n",
    "For testing I'll use built in Jupyter function %timeit."
   ]
  },
  {
   "cell_type": "code",
   "execution_count": 27,
   "metadata": {
    "collapsed": false
   },
   "outputs": [
    {
     "name": "stdout",
     "output_type": "stream",
     "text": [
      "1000 loops, best of 3: 608 µs per loop\n"
     ]
    }
   ],
   "source": [
    "import numpy as np\n",
    "from functools import partial\n",
    "from operator import mul\n",
    "\n",
    "a = list(map(partial(mul, 10), np.random.rand(100)))\n",
    "%timeit ins_sort(a)"
   ]
  },
  {
   "cell_type": "code",
   "execution_count": null,
   "metadata": {
    "collapsed": true
   },
   "outputs": [],
   "source": []
  }
 ],
 "metadata": {
  "kernelspec": {
   "display_name": "Python 3",
   "language": "python",
   "name": "python3"
  },
  "language_info": {
   "codemirror_mode": {
    "name": "ipython",
    "version": 3
   },
   "file_extension": ".py",
   "mimetype": "text/x-python",
   "name": "python",
   "nbconvert_exporter": "python",
   "pygments_lexer": "ipython3",
   "version": "3.5.1"
  }
 },
 "nbformat": 4,
 "nbformat_minor": 0
}
