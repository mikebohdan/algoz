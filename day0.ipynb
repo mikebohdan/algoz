{
 "cells": [
  {
   "cell_type": "markdown",
   "metadata": {},
   "source": [
    "# Insertion Sort\n",
    "\n",
    "Algotihm works next way. We walk throught array and picks elements one-by-one from second to last. Then, we find place to insert picked element in the prev part of array and insert it.\n"
   ]
  },
  {
   "cell_type": "code",
   "execution_count": 32,
   "metadata": {
    "collapsed": false
   },
   "outputs": [],
   "source": [
    "from functools import partial\n",
    "\n",
    "\n",
    "def ins_sort(xs, rev=False):\n",
    "    xs = xs[:]\n",
    "    comp = (lambda k, t: t < k) if rev else (lambda k, t: t > k)\n",
    "    for j in range(1, len(xs)):\n",
    "        i = j - 1\n",
    "        k = xs[j]\n",
    "        comp_foo = partial(comp, k)\n",
    "        while i >= 0 and comp_foo(xs[i]):\n",
    "            xs[i+1] = xs[i]\n",
    "            i -= 1\n",
    "        xs[i+1] = k\n",
    "    return xs"
   ]
  },
  {
   "cell_type": "markdown",
   "metadata": {},
   "source": [
    "### Insertion sort testing\n",
    "\n",
    "For testing I'll use built in Jupyter function %timeit."
   ]
  },
  {
   "cell_type": "code",
   "execution_count": 36,
   "metadata": {
    "collapsed": false
   },
   "outputs": [
    {
     "name": "stdout",
     "output_type": "stream",
     "text": [
      "10000 loops, best of 3: 19.9 µs per loop\n",
      "[8.6530608232957071, 0.085254425022157632, 6.4122482350608481, 7.6236917037175411, 7.7862693864317443, 3.3091233285414701, 5.6965372768717826, 8.4210864412750404, 5.4211481205886445, 8.6010443516741972]\n",
      "[8.6530608232957071, 8.6010443516741972, 8.4210864412750404, 7.7862693864317443, 7.6236917037175411, 6.4122482350608481, 5.6965372768717826, 5.4211481205886445, 3.3091233285414701, 0.085254425022157632]\n"
     ]
    }
   ],
   "source": [
    "import numpy as np\n",
    "from functools import partial\n",
    "from operator import mul\n",
    "\n",
    "a = list(map(partial(mul, 10), np.random.rand(10)))\n",
    "%timeit ins_sort(a)\n",
    "print(a)\n",
    "print(ins_sort(a, rev=True))"
   ]
  },
  {
   "cell_type": "code",
   "execution_count": null,
   "metadata": {
    "collapsed": true
   },
   "outputs": [],
   "source": []
  }
 ],
 "metadata": {
  "kernelspec": {
   "display_name": "Python 3",
   "language": "python",
   "name": "python3"
  },
  "language_info": {
   "codemirror_mode": {
    "name": "ipython",
    "version": 3
   },
   "file_extension": ".py",
   "mimetype": "text/x-python",
   "name": "python",
   "nbconvert_exporter": "python",
   "pygments_lexer": "ipython3",
   "version": "3.5.1"
  }
 },
 "nbformat": 4,
 "nbformat_minor": 0
}
