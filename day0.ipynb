{
 "cells": [
  {
   "cell_type": "markdown",
   "metadata": {},
   "source": [
    "# Insertion Sort\n",
    "\n",
    "Algotihm works next way. We walk throught array and picks elements one-by-one from second to last. Then, we find place to insert picked element in the prev part of array and insert it.\n"
   ]
  },
  {
   "cell_type": "code",
   "execution_count": 37,
   "metadata": {
    "collapsed": false
   },
   "outputs": [],
   "source": [
    "from functools import partial\n",
    "\n",
    "\n",
    "def ins_sort(xs, rev=False):\n",
    "    xs = xs[:]\n",
    "    comp = (lambda k, t: t < k) if rev else (lambda k, t: t > k)\n",
    "    for j in range(1, len(xs)):\n",
    "        i = j - 1\n",
    "        k = xs[j]\n",
    "        comp_foo = partial(comp, k)\n",
    "        while i >= 0 and comp_foo(xs[i]):\n",
    "            xs[i+1] = xs[i]\n",
    "            i -= 1\n",
    "        xs[i+1] = k\n",
    "    return xs"
   ]
  },
  {
   "cell_type": "markdown",
   "metadata": {},
   "source": [
    "### Insertion sort testing\n",
    "\n",
    "For testing I'll use built in Jupyter function %timeit."
   ]
  },
  {
   "cell_type": "code",
   "execution_count": 41,
   "metadata": {
    "collapsed": false
   },
   "outputs": [
    {
     "name": "stdout",
     "output_type": "stream",
     "text": [
      "1000 loops, best of 3: 1.43 ms per loop\n",
      "1000 loops, best of 3: 1.58 ms per loop\n"
     ]
    }
   ],
   "source": [
    "import numpy as np\n",
    "from functools import partial\n",
    "from operator import mul\n",
    "\n",
    "a = list(map(partial(mul, 10), np.random.rand(100)))\n",
    "%timeit ins_sort(a)\n",
    "%timeit ins_sort(a, True)"
   ]
  },
  {
   "cell_type": "code",
   "execution_count": null,
   "metadata": {
    "collapsed": true
   },
   "outputs": [],
   "source": []
  }
 ],
 "metadata": {
  "kernelspec": {
   "display_name": "Python 3",
   "language": "python",
   "name": "python3"
  },
  "language_info": {
   "codemirror_mode": {
    "name": "ipython",
    "version": 3
   },
   "file_extension": ".py",
   "mimetype": "text/x-python",
   "name": "python",
   "nbconvert_exporter": "python",
   "pygments_lexer": "ipython3",
   "version": "3.5.1"
  }
 },
 "nbformat": 4,
 "nbformat_minor": 0
}
