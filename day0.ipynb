{
 "cells": [
  {
   "cell_type": "markdown",
   "metadata": {},
   "source": [
    "# Insertion Sort\n",
    "\n",
    "Algotihm works next way. We walk throught array and picks elements one-by-one from second to last. Then, we find place to insert picked element in the prev part of array and insert it.\n"
   ]
  },
  {
   "cell_type": "code",
   "execution_count": 10,
   "metadata": {
    "collapsed": false
   },
   "outputs": [],
   "source": [
    "from functools import partial\n",
    "\n",
    "\n",
    "def ins_sort(xs, rev=False):\n",
    "    xs = xs[:]\n",
    "    comp = (lambda k, t: t < k) if rev else (lambda k, t: t > k)\n",
    "    for j in range(1, len(xs)):\n",
    "        i = j - 1\n",
    "        k = xs[j]\n",
    "        comp_foo = partial(comp, k)\n",
    "        while i >= 0 and comp_foo(xs[i]):\n",
    "            xs[i+1] = xs[i]\n",
    "            i -= 1\n",
    "        xs[i+1] = k\n",
    "    return xs"
   ]
  },
  {
   "cell_type": "markdown",
   "metadata": {},
   "source": [
    "### Insertion sort testing\n",
    "\n",
    "For testing I'll use built in Jupyter function %timeit."
   ]
  },
  {
   "cell_type": "code",
   "execution_count": 11,
   "metadata": {
    "collapsed": false
   },
   "outputs": [
    {
     "name": "stdout",
     "output_type": "stream",
     "text": [
      "1 loop, best of 3: 14.6 s per loop\n",
      "1 loop, best of 3: 14.9 s per loop\n"
     ]
    }
   ],
   "source": [
    "import numpy as np\n",
    "from functools import partial\n",
    "from operator import mul\n",
    "\n",
    "a = list(map(partial(mul, 10), np.random.rand(10000)))\n",
    "%timeit ins_sort(a)\n",
    "%timeit ins_sort(a, True)"
   ]
  },
  {
   "cell_type": "markdown",
   "metadata": {
    "collapsed": true
   },
   "source": [
    "# Merge sort\n",
    "\n",
    "This sorting algorithm execute in next way.\n",
    "1. We split array to two arrays\n",
    "2. Sort each of this arrays.\n",
    "3. Merge sorted arrays together"
   ]
  },
  {
   "cell_type": "markdown",
   "metadata": {},
   "source": [
    "### merge function\n",
    "First of all we need to implement merge function.\n",
    "For this function I implement next algorithm.\n",
    "#### input: xs, ys - arrays, cf - comparing function (a, a) -> bool\n",
    "#### output: zs - merged array\n",
    "1. move elements from xs to zs while cf(current xs, current ys) is True or ys is empty\n",
    "2. move elements from ys to zs while cf(current ys, current xs) is True or xs is empty\n",
    "3. if xs not empty go to 1\n",
    "4. if ys not empty go to 2"
   ]
  },
  {
   "cell_type": "code",
   "execution_count": 5,
   "metadata": {
    "collapsed": false
   },
   "outputs": [],
   "source": [
    "def merge(xs, ys, cf=lambda a, b: b if a > b else a):\n",
    "    zs = []\n",
    "    xl, yl = len(xs), len(ys)\n",
    "    zl = xl + yl\n",
    "    xi = yi = 0\n",
    "    for _ in range(zl):\n",
    "        if xi == xl:\n",
    "            while yi < yl:\n",
    "                zs.append(ys[yi])\n",
    "                yi += 1\n",
    "            break\n",
    "        elif yi == yl:\n",
    "            while xi < xl:\n",
    "                zs.append(xs[xi])\n",
    "                xi += 1\n",
    "            break\n",
    "        zs.append(cf(xs[xi], ys[yi]))\n",
    "        if xs[xi] < ys[yi]:\n",
    "            xi += 1\n",
    "        else:\n",
    "            yi += 1\n",
    "    return zs"
   ]
  },
  {
   "cell_type": "markdown",
   "metadata": {},
   "source": [
    "Now lets write classic recursive merge sort."
   ]
  },
  {
   "cell_type": "code",
   "execution_count": 6,
   "metadata": {
    "collapsed": false
   },
   "outputs": [],
   "source": [
    "def classic_merge_sort(xs):\n",
    "    if len(xs) < 2:\n",
    "        return xs\n",
    "    q = len(xs) // 2\n",
    "    ys = classic_merge_sort(xs[:q])\n",
    "    zs = classic_merge_sort(xs[q:])\n",
    "    return merge(ys, zs)"
   ]
  },
  {
   "cell_type": "code",
   "execution_count": 9,
   "metadata": {
    "collapsed": false
   },
   "outputs": [
    {
     "name": "stdout",
     "output_type": "stream",
     "text": [
      "100 loops, best of 3: 8.91 ms per loop\n"
     ]
    }
   ],
   "source": [
    "import numpy as np\n",
    "from functools import partial\n",
    "from operator import mul\n",
    "\n",
    "a = list(map(partial(mul, 10), np.random.rand(10000)))\n",
    "%timeit classic_merge_sort(a)"
   ]
  },
  {
   "cell_type": "markdown",
   "metadata": {
    "collapsed": true
   },
   "source": [
    "So, merge sort is notably faster than insertion sort, but in python recursion is not best solution."
   ]
  }
 ],
 "metadata": {
  "kernelspec": {
   "display_name": "Python 3",
   "language": "python",
   "name": "python3"
  },
  "language_info": {
   "codemirror_mode": {
    "name": "ipython",
    "version": 3
   },
   "file_extension": ".py",
   "mimetype": "text/x-python",
   "name": "python",
   "nbconvert_exporter": "python",
   "pygments_lexer": "ipython3",
   "version": "3.5.1"
  }
 },
 "nbformat": 4,
 "nbformat_minor": 0
}
